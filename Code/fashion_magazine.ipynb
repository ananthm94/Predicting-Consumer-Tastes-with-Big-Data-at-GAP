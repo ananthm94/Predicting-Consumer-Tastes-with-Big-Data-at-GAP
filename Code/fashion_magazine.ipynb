{
 "cells": [
  {
   "cell_type": "code",
   "execution_count": 1,
   "id": "4ba6872b-26d0-4183-8b60-cf860f04d904",
   "metadata": {},
   "outputs": [],
   "source": [
    "import requests\n",
    "from bs4 import BeautifulSoup\n",
    "\n",
    "# URL of the page you want to scrape\n",
    "url = 'https://www.vogue.com/article/fall-shopping-list-editor-picks-2024'  # Replace with the DIFFERENT BRAND URL\n",
    "\n",
    "# Send a GET request to the URL\n",
    "response = requests.get(url)"
   ]
  },
  {
   "cell_type": "code",
   "execution_count": 3,
   "id": "386f9eb7-cd85-4ce2-a93f-d05d9f7d5371",
   "metadata": {},
   "outputs": [],
   "source": [
    "# Check if the request was successful\n",
    "if response.status_code == 200:\n",
    "    # Parse the HTML content\n",
    "    html_content = response.text"
   ]
  },
  {
   "cell_type": "code",
   "execution_count": 13,
   "id": "d7b57451-709d-4b9e-a2c6-776da22402f5",
   "metadata": {},
   "outputs": [
    {
     "name": "stdout",
     "output_type": "stream",
     "text": [
      "                       trends  \\\n",
      "0           The Relaxed Suit:   \n",
      "1   The Leopard Print Clutch:   \n",
      "2         The Leather Trench:   \n",
      "3      The Cashmere Crewneck:   \n",
      "4             The Track Pant:   \n",
      "5            The Mesh Moment:   \n",
      "6       The Boot-Pant Hybrid:   \n",
      "7              Silk and Lace:   \n",
      "8             The Draped Top:   \n",
      "9         The Burgundy Skirt:   \n",
      "10          The Suede Jacket:   \n",
      "11         The Corduroy Vest:   \n",
      "\n",
      "                                          Anchor Text  Price  \n",
      "0                        Gabriela Hearst Gavin blazer  1,990  \n",
      "1   Alaïa Le Cache Coeur clutch,</a> $1,950</li><l...    278  \n",
      "2                     Mackage Gael belted trench coat  1,850  \n",
      "3                    J.Crew cashmere crewneck sweater    198  \n",
      "4                      Nike striped shell track pants     90  \n",
      "5              The Frankie Shop Peri sheer midi skirt    145  \n",
      "6                       Sacai pant leather knee boots  1,905  \n",
      "7                           Dôen Kira corded camisole    260  \n",
      "8                  Salon 1884 Lazelle draped cape top  1,790  \n",
      "9                                 Khaite Loxley skirt  2,900  \n",
      "10                          Zara suede leather blazer    349  \n",
      "11                               Mitch cord waistcoat    149  \n"
     ]
    }
   ],
   "source": [
    "import re\n",
    "import pandas as pd\n",
    "# Regex pattern to match the desired information\n",
    "pattern = r'<li><strong>(.*?)<\\/strong>.*?<a.*?>(.*?)<\\/a>,\\s*\\$([\\d,]+)<\\/li>'\n",
    "\n",
    "# Find all matches\n",
    "matches = re.findall(pattern, html_content)\n",
    "\n",
    "# Create a DataFrame from the matches\n",
    "df = pd.DataFrame(matches, columns=['trends', 'Anchor Text', 'Price'])\n",
    "\n",
    "\n",
    "# Display the DataFrame\n",
    "print(df)"
   ]
  },
  {
   "cell_type": "code",
   "execution_count": 17,
   "id": "91d757ca-9ea7-487a-b4c0-b33b1c81b312",
   "metadata": {},
   "outputs": [],
   "source": [
    "trend_items = list(df['trends'])"
   ]
  },
  {
   "cell_type": "code",
   "execution_count": 23,
   "id": "d58eb4f1-b905-48f0-9721-6ac8664c7d04",
   "metadata": {},
   "outputs": [
    {
     "name": "stdout",
     "output_type": "stream",
     "text": [
      "Trend Items: ['The Relaxed Suit:', 'The Leopard Print Clutch:', 'The Leather Trench:', 'The Cashmere Crewneck:', 'The Track Pant:', 'The Mesh Moment:', 'The Boot-Pant Hybrid:', 'Silk and Lace:', 'The Draped Top:', 'The Burgundy Skirt:', 'The Suede Jacket:', 'The Corduroy Vest:', 'Colorful Layers ', 'Circle Skirts ', 'Leopard! Leopard! And More Leopard! ', 'Boxy Jackets ', 'Ruffled Maxi Dresses', 'Over-The-Knee Boots ', 'New Tailoring ', 'Boho Forever ', 'Double Bags ', 'Scarf Coats ', 'Oversized Trousers ', 'Statement Midi-Dresses ']\n"
     ]
    }
   ],
   "source": [
    "from bs4 import BeautifulSoup\n",
    "# URL of the page you want to scrape\n",
    "url = 'https://www.harpersbazaar.com/fashion/trends/a46826009/fall-2024-trends/'  # Replace with the actual URL\n",
    "\n",
    "# Send a GET request to the URL\n",
    "response = requests.get(url)\n",
    "\n",
    "# Check if the request was successful\n",
    "if response.status_code == 200:\n",
    "    # Parse the HTML content\n",
    "    html_content = response.text\n",
    "\n",
    "# Sample HTML string\n",
    "html_string = html_content\n",
    "\n",
    "# Create a BeautifulSoup object\n",
    "soup = BeautifulSoup(html_string, 'html.parser')\n",
    "\n",
    "# Find all <h2> tags with the specified class\n",
    "h2_tags = soup.find_all('h2', class_='css-1ooignj')\n",
    "\n",
    "# Extract the text from each <h2> tag and store it in the list\n",
    "for h2_tag in h2_tags:\n",
    "    trend_items.append(h2_tag.get_text())\n",
    "\n",
    "# Print the list of trend items\n",
    "print(\"Trend Items:\", trend_items)"
   ]
  },
  {
   "cell_type": "code",
   "execution_count": 25,
   "id": "fc4a1d2b-80fb-45cb-ae0e-4ea551d760aa",
   "metadata": {},
   "outputs": [
    {
     "name": "stdout",
     "output_type": "stream",
     "text": [
      "Trend Items: ['The Relaxed Suit:', 'The Leopard Print Clutch:', 'The Leather Trench:', 'The Cashmere Crewneck:', 'The Track Pant:', 'The Mesh Moment:', 'The Boot-Pant Hybrid:', 'Silk and Lace:', 'The Draped Top:', 'The Burgundy Skirt:', 'The Suede Jacket:', 'The Corduroy Vest:', 'Colorful Layers ', 'Circle Skirts ', 'Leopard! Leopard! And More Leopard! ', 'Boxy Jackets ', 'Ruffled Maxi Dresses', 'Over-The-Knee Boots ', 'New Tailoring ', 'Boho Forever ', 'Double Bags ', 'Scarf Coats ', 'Oversized Trousers ', 'Statement Midi-Dresses ', 'Full Transparency', 'Wrap It Up', 'Retro Femme', 'Ultra-High Necklines', 'Luxe Leather', 'Fluffed Up']\n"
     ]
    }
   ],
   "source": [
    "from bs4 import BeautifulSoup\n",
    "# URL of the page you want to scrape\n",
    "url = 'https://www.elle.com/fashion/trend-reports/a46805342/fall-2024-fashion-trends/'  # Replace with the actual URL\n",
    "\n",
    "# Send a GET request to the URL\n",
    "response = requests.get(url)\n",
    "\n",
    "# Check if the request was successful\n",
    "if response.status_code == 200:\n",
    "    # Parse the HTML content\n",
    "    html_content = response.text\n",
    "\n",
    "# Sample HTML string\n",
    "html_string = html_content\n",
    "\n",
    "# Create a BeautifulSoup object\n",
    "soup = BeautifulSoup(html_string, 'html.parser')\n",
    "\n",
    "# Find all <h2> tags with the specified class\n",
    "h2_tags = soup.find_all('h2', class_='body-h2 css-1r6r7f1 emevuu60')\n",
    "\n",
    "# Extract the text from each <h2> tag and store it in the list\n",
    "for h2_tag in h2_tags:\n",
    "    trend_items.append(h2_tag.get_text())\n",
    "\n",
    "# Print the list of trend items\n",
    "print(\"Trend Items:\", trend_items)"
   ]
  },
  {
   "cell_type": "code",
   "execution_count": 29,
   "id": "6828a066-001a-48d4-a080-ff28e12c7873",
   "metadata": {},
   "outputs": [
    {
     "name": "stderr",
     "output_type": "stream",
     "text": [
      "C:\\Users\\Tushar Malankar\\anaconda3\\Lib\\site-packages\\pytrends\\request.py:260: FutureWarning: Downcasting object dtype arrays on .fillna, .ffill, .bfill is deprecated and will change in a future version. Call result.infer_objects(copy=False) instead. To opt-in to the future behavior, set `pd.set_option('future.no_silent_downcasting', True)`\n",
      "  df = df.fillna(False)\n"
     ]
    },
    {
     "name": "stdout",
     "output_type": "stream",
     "text": [
      "Error processing term 'The Relaxed Suit:': name 'combined_df' is not defined\n"
     ]
    },
    {
     "name": "stderr",
     "output_type": "stream",
     "text": [
      "C:\\Users\\Tushar Malankar\\anaconda3\\Lib\\site-packages\\pytrends\\request.py:260: FutureWarning: Downcasting object dtype arrays on .fillna, .ffill, .bfill is deprecated and will change in a future version. Call result.infer_objects(copy=False) instead. To opt-in to the future behavior, set `pd.set_option('future.no_silent_downcasting', True)`\n",
      "  df = df.fillna(False)\n"
     ]
    },
    {
     "name": "stdout",
     "output_type": "stream",
     "text": [
      "Error processing term 'The Leopard Print Clutch:': name 'combined_df' is not defined\n"
     ]
    },
    {
     "name": "stderr",
     "output_type": "stream",
     "text": [
      "C:\\Users\\Tushar Malankar\\anaconda3\\Lib\\site-packages\\pytrends\\request.py:260: FutureWarning: Downcasting object dtype arrays on .fillna, .ffill, .bfill is deprecated and will change in a future version. Call result.infer_objects(copy=False) instead. To opt-in to the future behavior, set `pd.set_option('future.no_silent_downcasting', True)`\n",
      "  df = df.fillna(False)\n"
     ]
    },
    {
     "name": "stdout",
     "output_type": "stream",
     "text": [
      "Error processing term 'The Leather Trench:': name 'combined_df' is not defined\n"
     ]
    },
    {
     "name": "stderr",
     "output_type": "stream",
     "text": [
      "C:\\Users\\Tushar Malankar\\anaconda3\\Lib\\site-packages\\pytrends\\request.py:260: FutureWarning: Downcasting object dtype arrays on .fillna, .ffill, .bfill is deprecated and will change in a future version. Call result.infer_objects(copy=False) instead. To opt-in to the future behavior, set `pd.set_option('future.no_silent_downcasting', True)`\n",
      "  df = df.fillna(False)\n"
     ]
    },
    {
     "name": "stdout",
     "output_type": "stream",
     "text": [
      "Error processing term 'The Cashmere Crewneck:': name 'combined_df' is not defined\n"
     ]
    },
    {
     "name": "stderr",
     "output_type": "stream",
     "text": [
      "C:\\Users\\Tushar Malankar\\anaconda3\\Lib\\site-packages\\pytrends\\request.py:260: FutureWarning: Downcasting object dtype arrays on .fillna, .ffill, .bfill is deprecated and will change in a future version. Call result.infer_objects(copy=False) instead. To opt-in to the future behavior, set `pd.set_option('future.no_silent_downcasting', True)`\n",
      "  df = df.fillna(False)\n"
     ]
    },
    {
     "name": "stdout",
     "output_type": "stream",
     "text": [
      "Error processing term 'The Track Pant:': name 'combined_df' is not defined\n"
     ]
    },
    {
     "name": "stderr",
     "output_type": "stream",
     "text": [
      "C:\\Users\\Tushar Malankar\\anaconda3\\Lib\\site-packages\\pytrends\\request.py:260: FutureWarning: Downcasting object dtype arrays on .fillna, .ffill, .bfill is deprecated and will change in a future version. Call result.infer_objects(copy=False) instead. To opt-in to the future behavior, set `pd.set_option('future.no_silent_downcasting', True)`\n",
      "  df = df.fillna(False)\n"
     ]
    },
    {
     "name": "stdout",
     "output_type": "stream",
     "text": [
      "Error processing term 'The Mesh Moment:': name 'combined_df' is not defined\n"
     ]
    },
    {
     "name": "stderr",
     "output_type": "stream",
     "text": [
      "C:\\Users\\Tushar Malankar\\anaconda3\\Lib\\site-packages\\pytrends\\request.py:260: FutureWarning: Downcasting object dtype arrays on .fillna, .ffill, .bfill is deprecated and will change in a future version. Call result.infer_objects(copy=False) instead. To opt-in to the future behavior, set `pd.set_option('future.no_silent_downcasting', True)`\n",
      "  df = df.fillna(False)\n"
     ]
    },
    {
     "name": "stdout",
     "output_type": "stream",
     "text": [
      "Error processing term 'The Boot-Pant Hybrid:': name 'combined_df' is not defined\n"
     ]
    },
    {
     "name": "stderr",
     "output_type": "stream",
     "text": [
      "C:\\Users\\Tushar Malankar\\anaconda3\\Lib\\site-packages\\pytrends\\request.py:260: FutureWarning: Downcasting object dtype arrays on .fillna, .ffill, .bfill is deprecated and will change in a future version. Call result.infer_objects(copy=False) instead. To opt-in to the future behavior, set `pd.set_option('future.no_silent_downcasting', True)`\n",
      "  df = df.fillna(False)\n"
     ]
    },
    {
     "name": "stdout",
     "output_type": "stream",
     "text": [
      "Error processing term 'Silk and Lace:': name 'combined_df' is not defined\n"
     ]
    },
    {
     "name": "stderr",
     "output_type": "stream",
     "text": [
      "C:\\Users\\Tushar Malankar\\anaconda3\\Lib\\site-packages\\pytrends\\request.py:260: FutureWarning: Downcasting object dtype arrays on .fillna, .ffill, .bfill is deprecated and will change in a future version. Call result.infer_objects(copy=False) instead. To opt-in to the future behavior, set `pd.set_option('future.no_silent_downcasting', True)`\n",
      "  df = df.fillna(False)\n"
     ]
    },
    {
     "name": "stdout",
     "output_type": "stream",
     "text": [
      "Error processing term 'The Draped Top:': name 'combined_df' is not defined\n"
     ]
    },
    {
     "name": "stderr",
     "output_type": "stream",
     "text": [
      "C:\\Users\\Tushar Malankar\\anaconda3\\Lib\\site-packages\\pytrends\\request.py:260: FutureWarning: Downcasting object dtype arrays on .fillna, .ffill, .bfill is deprecated and will change in a future version. Call result.infer_objects(copy=False) instead. To opt-in to the future behavior, set `pd.set_option('future.no_silent_downcasting', True)`\n",
      "  df = df.fillna(False)\n"
     ]
    },
    {
     "name": "stdout",
     "output_type": "stream",
     "text": [
      "Error processing term 'The Burgundy Skirt:': name 'combined_df' is not defined\n"
     ]
    },
    {
     "name": "stderr",
     "output_type": "stream",
     "text": [
      "C:\\Users\\Tushar Malankar\\anaconda3\\Lib\\site-packages\\pytrends\\request.py:260: FutureWarning: Downcasting object dtype arrays on .fillna, .ffill, .bfill is deprecated and will change in a future version. Call result.infer_objects(copy=False) instead. To opt-in to the future behavior, set `pd.set_option('future.no_silent_downcasting', True)`\n",
      "  df = df.fillna(False)\n"
     ]
    },
    {
     "name": "stdout",
     "output_type": "stream",
     "text": [
      "Error processing term 'The Suede Jacket:': name 'combined_df' is not defined\n"
     ]
    },
    {
     "name": "stderr",
     "output_type": "stream",
     "text": [
      "C:\\Users\\Tushar Malankar\\anaconda3\\Lib\\site-packages\\pytrends\\request.py:260: FutureWarning: Downcasting object dtype arrays on .fillna, .ffill, .bfill is deprecated and will change in a future version. Call result.infer_objects(copy=False) instead. To opt-in to the future behavior, set `pd.set_option('future.no_silent_downcasting', True)`\n",
      "  df = df.fillna(False)\n"
     ]
    },
    {
     "name": "stdout",
     "output_type": "stream",
     "text": [
      "Error processing term 'The Corduroy Vest:': name 'combined_df' is not defined\n"
     ]
    },
    {
     "name": "stderr",
     "output_type": "stream",
     "text": [
      "C:\\Users\\Tushar Malankar\\anaconda3\\Lib\\site-packages\\pytrends\\request.py:260: FutureWarning: Downcasting object dtype arrays on .fillna, .ffill, .bfill is deprecated and will change in a future version. Call result.infer_objects(copy=False) instead. To opt-in to the future behavior, set `pd.set_option('future.no_silent_downcasting', True)`\n",
      "  df = df.fillna(False)\n"
     ]
    },
    {
     "name": "stdout",
     "output_type": "stream",
     "text": [
      "Error processing term 'Colorful Layers ': name 'combined_df' is not defined\n"
     ]
    },
    {
     "name": "stderr",
     "output_type": "stream",
     "text": [
      "C:\\Users\\Tushar Malankar\\anaconda3\\Lib\\site-packages\\pytrends\\request.py:260: FutureWarning: Downcasting object dtype arrays on .fillna, .ffill, .bfill is deprecated and will change in a future version. Call result.infer_objects(copy=False) instead. To opt-in to the future behavior, set `pd.set_option('future.no_silent_downcasting', True)`\n",
      "  df = df.fillna(False)\n"
     ]
    },
    {
     "name": "stdout",
     "output_type": "stream",
     "text": [
      "Error processing term 'Circle Skirts ': name 'combined_df' is not defined\n"
     ]
    },
    {
     "name": "stderr",
     "output_type": "stream",
     "text": [
      "C:\\Users\\Tushar Malankar\\anaconda3\\Lib\\site-packages\\pytrends\\request.py:260: FutureWarning: Downcasting object dtype arrays on .fillna, .ffill, .bfill is deprecated and will change in a future version. Call result.infer_objects(copy=False) instead. To opt-in to the future behavior, set `pd.set_option('future.no_silent_downcasting', True)`\n",
      "  df = df.fillna(False)\n"
     ]
    },
    {
     "name": "stdout",
     "output_type": "stream",
     "text": [
      "Error processing term 'Leopard! Leopard! And More Leopard! ': name 'combined_df' is not defined\n"
     ]
    },
    {
     "name": "stderr",
     "output_type": "stream",
     "text": [
      "C:\\Users\\Tushar Malankar\\anaconda3\\Lib\\site-packages\\pytrends\\request.py:260: FutureWarning: Downcasting object dtype arrays on .fillna, .ffill, .bfill is deprecated and will change in a future version. Call result.infer_objects(copy=False) instead. To opt-in to the future behavior, set `pd.set_option('future.no_silent_downcasting', True)`\n",
      "  df = df.fillna(False)\n"
     ]
    },
    {
     "name": "stdout",
     "output_type": "stream",
     "text": [
      "Error processing term 'Boxy Jackets ': name 'combined_df' is not defined\n"
     ]
    },
    {
     "name": "stderr",
     "output_type": "stream",
     "text": [
      "C:\\Users\\Tushar Malankar\\anaconda3\\Lib\\site-packages\\pytrends\\request.py:260: FutureWarning: Downcasting object dtype arrays on .fillna, .ffill, .bfill is deprecated and will change in a future version. Call result.infer_objects(copy=False) instead. To opt-in to the future behavior, set `pd.set_option('future.no_silent_downcasting', True)`\n",
      "  df = df.fillna(False)\n"
     ]
    },
    {
     "name": "stdout",
     "output_type": "stream",
     "text": [
      "Error processing term 'Ruffled Maxi Dresses': name 'combined_df' is not defined\n"
     ]
    },
    {
     "name": "stderr",
     "output_type": "stream",
     "text": [
      "C:\\Users\\Tushar Malankar\\anaconda3\\Lib\\site-packages\\pytrends\\request.py:260: FutureWarning: Downcasting object dtype arrays on .fillna, .ffill, .bfill is deprecated and will change in a future version. Call result.infer_objects(copy=False) instead. To opt-in to the future behavior, set `pd.set_option('future.no_silent_downcasting', True)`\n",
      "  df = df.fillna(False)\n"
     ]
    },
    {
     "name": "stdout",
     "output_type": "stream",
     "text": [
      "Error processing term 'Over-The-Knee Boots ': name 'combined_df' is not defined\n"
     ]
    },
    {
     "name": "stderr",
     "output_type": "stream",
     "text": [
      "C:\\Users\\Tushar Malankar\\anaconda3\\Lib\\site-packages\\pytrends\\request.py:260: FutureWarning: Downcasting object dtype arrays on .fillna, .ffill, .bfill is deprecated and will change in a future version. Call result.infer_objects(copy=False) instead. To opt-in to the future behavior, set `pd.set_option('future.no_silent_downcasting', True)`\n",
      "  df = df.fillna(False)\n"
     ]
    },
    {
     "name": "stdout",
     "output_type": "stream",
     "text": [
      "Error processing term 'New Tailoring ': name 'combined_df' is not defined\n"
     ]
    },
    {
     "name": "stderr",
     "output_type": "stream",
     "text": [
      "C:\\Users\\Tushar Malankar\\anaconda3\\Lib\\site-packages\\pytrends\\request.py:260: FutureWarning: Downcasting object dtype arrays on .fillna, .ffill, .bfill is deprecated and will change in a future version. Call result.infer_objects(copy=False) instead. To opt-in to the future behavior, set `pd.set_option('future.no_silent_downcasting', True)`\n",
      "  df = df.fillna(False)\n"
     ]
    },
    {
     "name": "stdout",
     "output_type": "stream",
     "text": [
      "Error processing term 'Boho Forever ': name 'combined_df' is not defined\n"
     ]
    },
    {
     "name": "stderr",
     "output_type": "stream",
     "text": [
      "C:\\Users\\Tushar Malankar\\anaconda3\\Lib\\site-packages\\pytrends\\request.py:260: FutureWarning: Downcasting object dtype arrays on .fillna, .ffill, .bfill is deprecated and will change in a future version. Call result.infer_objects(copy=False) instead. To opt-in to the future behavior, set `pd.set_option('future.no_silent_downcasting', True)`\n",
      "  df = df.fillna(False)\n"
     ]
    },
    {
     "name": "stdout",
     "output_type": "stream",
     "text": [
      "Error processing term 'Double Bags ': name 'combined_df' is not defined\n"
     ]
    },
    {
     "name": "stderr",
     "output_type": "stream",
     "text": [
      "C:\\Users\\Tushar Malankar\\anaconda3\\Lib\\site-packages\\pytrends\\request.py:260: FutureWarning: Downcasting object dtype arrays on .fillna, .ffill, .bfill is deprecated and will change in a future version. Call result.infer_objects(copy=False) instead. To opt-in to the future behavior, set `pd.set_option('future.no_silent_downcasting', True)`\n",
      "  df = df.fillna(False)\n"
     ]
    },
    {
     "name": "stdout",
     "output_type": "stream",
     "text": [
      "Error processing term 'Scarf Coats ': name 'combined_df' is not defined\n"
     ]
    },
    {
     "name": "stderr",
     "output_type": "stream",
     "text": [
      "C:\\Users\\Tushar Malankar\\anaconda3\\Lib\\site-packages\\pytrends\\request.py:260: FutureWarning: Downcasting object dtype arrays on .fillna, .ffill, .bfill is deprecated and will change in a future version. Call result.infer_objects(copy=False) instead. To opt-in to the future behavior, set `pd.set_option('future.no_silent_downcasting', True)`\n",
      "  df = df.fillna(False)\n"
     ]
    },
    {
     "name": "stdout",
     "output_type": "stream",
     "text": [
      "Error processing term 'Oversized Trousers ': name 'combined_df' is not defined\n",
      "No data found for: Statement Midi-Dresses \n",
      "Error processing term 'Statement Midi-Dresses ': name 'time' is not defined\n"
     ]
    },
    {
     "name": "stderr",
     "output_type": "stream",
     "text": [
      "C:\\Users\\Tushar Malankar\\anaconda3\\Lib\\site-packages\\pytrends\\request.py:260: FutureWarning: Downcasting object dtype arrays on .fillna, .ffill, .bfill is deprecated and will change in a future version. Call result.infer_objects(copy=False) instead. To opt-in to the future behavior, set `pd.set_option('future.no_silent_downcasting', True)`\n",
      "  df = df.fillna(False)\n"
     ]
    },
    {
     "name": "stdout",
     "output_type": "stream",
     "text": [
      "Error processing term 'Full Transparency': name 'combined_df' is not defined\n"
     ]
    },
    {
     "name": "stderr",
     "output_type": "stream",
     "text": [
      "C:\\Users\\Tushar Malankar\\anaconda3\\Lib\\site-packages\\pytrends\\request.py:260: FutureWarning: Downcasting object dtype arrays on .fillna, .ffill, .bfill is deprecated and will change in a future version. Call result.infer_objects(copy=False) instead. To opt-in to the future behavior, set `pd.set_option('future.no_silent_downcasting', True)`\n",
      "  df = df.fillna(False)\n"
     ]
    },
    {
     "name": "stdout",
     "output_type": "stream",
     "text": [
      "Error processing term 'Wrap It Up': name 'combined_df' is not defined\n"
     ]
    },
    {
     "name": "stderr",
     "output_type": "stream",
     "text": [
      "C:\\Users\\Tushar Malankar\\anaconda3\\Lib\\site-packages\\pytrends\\request.py:260: FutureWarning: Downcasting object dtype arrays on .fillna, .ffill, .bfill is deprecated and will change in a future version. Call result.infer_objects(copy=False) instead. To opt-in to the future behavior, set `pd.set_option('future.no_silent_downcasting', True)`\n",
      "  df = df.fillna(False)\n"
     ]
    },
    {
     "name": "stdout",
     "output_type": "stream",
     "text": [
      "Error processing term 'Retro Femme': name 'combined_df' is not defined\n"
     ]
    },
    {
     "name": "stderr",
     "output_type": "stream",
     "text": [
      "C:\\Users\\Tushar Malankar\\anaconda3\\Lib\\site-packages\\pytrends\\request.py:260: FutureWarning: Downcasting object dtype arrays on .fillna, .ffill, .bfill is deprecated and will change in a future version. Call result.infer_objects(copy=False) instead. To opt-in to the future behavior, set `pd.set_option('future.no_silent_downcasting', True)`\n",
      "  df = df.fillna(False)\n"
     ]
    },
    {
     "name": "stdout",
     "output_type": "stream",
     "text": [
      "Error processing term 'Ultra-High Necklines': name 'combined_df' is not defined\n"
     ]
    },
    {
     "name": "stderr",
     "output_type": "stream",
     "text": [
      "C:\\Users\\Tushar Malankar\\anaconda3\\Lib\\site-packages\\pytrends\\request.py:260: FutureWarning: Downcasting object dtype arrays on .fillna, .ffill, .bfill is deprecated and will change in a future version. Call result.infer_objects(copy=False) instead. To opt-in to the future behavior, set `pd.set_option('future.no_silent_downcasting', True)`\n",
      "  df = df.fillna(False)\n"
     ]
    },
    {
     "name": "stdout",
     "output_type": "stream",
     "text": [
      "Error processing term 'Luxe Leather': name 'combined_df' is not defined\n",
      "Error processing term 'Fluffed Up': name 'combined_df' is not defined\n"
     ]
    },
    {
     "name": "stderr",
     "output_type": "stream",
     "text": [
      "C:\\Users\\Tushar Malankar\\anaconda3\\Lib\\site-packages\\pytrends\\request.py:260: FutureWarning: Downcasting object dtype arrays on .fillna, .ffill, .bfill is deprecated and will change in a future version. Call result.infer_objects(copy=False) instead. To opt-in to the future behavior, set `pd.set_option('future.no_silent_downcasting', True)`\n",
      "  df = df.fillna(False)\n"
     ]
    },
    {
     "ename": "NameError",
     "evalue": "name 'combined_df' is not defined",
     "output_type": "error",
     "traceback": [
      "\u001b[1;31m---------------------------------------------------------------------------\u001b[0m",
      "\u001b[1;31mNameError\u001b[0m                                 Traceback (most recent call last)",
      "Cell \u001b[1;32mIn[29], line 40\u001b[0m\n\u001b[0;32m     37\u001b[0m         \u001b[38;5;28mprint\u001b[39m(\u001b[38;5;124mf\u001b[39m\u001b[38;5;124m\"\u001b[39m\u001b[38;5;124mError processing term \u001b[39m\u001b[38;5;124m'\u001b[39m\u001b[38;5;132;01m{\u001b[39;00mitem\u001b[38;5;132;01m}\u001b[39;00m\u001b[38;5;124m'\u001b[39m\u001b[38;5;124m: \u001b[39m\u001b[38;5;132;01m{\u001b[39;00me\u001b[38;5;132;01m}\u001b[39;00m\u001b[38;5;124m\"\u001b[39m)\n\u001b[0;32m     39\u001b[0m \u001b[38;5;66;03m# After processing all terms, save the combined DataFrame to a new CSV file\u001b[39;00m\n\u001b[1;32m---> 40\u001b[0m \u001b[38;5;28;01mif\u001b[39;00m combined_df \u001b[38;5;129;01mis\u001b[39;00m \u001b[38;5;129;01mnot\u001b[39;00m \u001b[38;5;28;01mNone\u001b[39;00m:\n\u001b[0;32m     41\u001b[0m     combined_df\u001b[38;5;241m.\u001b[39mto_csv(\u001b[38;5;124mr\u001b[39m\u001b[38;5;124m\"\u001b[39m\u001b[38;5;124mC:/Users/Tushar Malankar/Desktop/PURDUE CLASSES/WDA/wda projects/combined_fashion_terms.csv\u001b[39m\u001b[38;5;124m\"\u001b[39m, index\u001b[38;5;241m=\u001b[39m\u001b[38;5;28;01mFalse\u001b[39;00m)\n\u001b[0;32m     42\u001b[0m     \u001b[38;5;28mprint\u001b[39m(\u001b[38;5;124m\"\u001b[39m\u001b[38;5;124mCombined data saved to \u001b[39m\u001b[38;5;124m'\u001b[39m\u001b[38;5;124mcombined_fashion_terms.csv\u001b[39m\u001b[38;5;124m'\u001b[39m\u001b[38;5;124m.\u001b[39m\u001b[38;5;124m\"\u001b[39m)\n",
      "\u001b[1;31mNameError\u001b[0m: name 'combined_df' is not defined"
     ]
    }
   ],
   "source": [
    "from pytrends.request import TrendReq\n",
    "\n",
    "# Create a Pytrends request object\n",
    "pytrends = TrendReq(hl='en-US', tz=360)\n",
    "# Loop through each fashion term to fetch interest over time\n",
    "for item in trend_items:\n",
    "    print(\n",
    "    try:\n",
    "        # Build the payload for the specified term\n",
    "        pytrends.build_payload([item], cat=0, timeframe='today 5-y', geo='', gprop='')\n",
    "\n",
    "        # Get interest over time\n",
    "        df = pytrends.interest_over_time()\n",
    "\n",
    "        # Check if the DataFrame is empty\n",
    "        if not df.empty:\n",
    "            df = df.reset_index()\n",
    "            # Select the first two columns\n",
    "            df_selected = df.iloc[:, :2]  # First two columns: time and interest\n",
    "\n",
    "            # If it's the first DataFrame, initialize combined_df\n",
    "            if combined_df is None:\n",
    "                combined_df = df_selected\n",
    "            else:\n",
    "                # Append the second column from the new DataFrame to the combined DataFrame\n",
    "                combined_df[item] = df_selected.iloc[:, 1]  # Add the interest data to the second column\n",
    "\n",
    "            # Save the first CSV for the current term\n",
    "            df_selected.to_csv(f'{r\"C:/Users/Tushar Malankar/Desktop/PURDUE CLASSES/WDA/wda projects/trends/\" + item.replace(\" \", \"_\")}.csv', index=False)\n",
    "            print(f\"Data for '{item}' saved to '{item.replace(' ', '_')}.csv'.\")\n",
    "        else:\n",
    "            print(f\"No data found for: {item}\")\n",
    "\n",
    "        # Sleep for a few seconds to avoid rate limiting\n",
    "        time.sleep(5)\n",
    "\n",
    "    except Exception as e:\n",
    "        print(f\"Error processing term '{item}': {e}\")\n",
    "\n",
    "# After processing all terms, save the combined DataFrame to a new CSV file\n",
    "if combined_df is not None:\n",
    "    combined_df.to_csv(r\"C:/Users/Tushar Malankar/Desktop/PURDUE CLASSES/WDA/wda projects/combined_fashion_terms.csv\", index=False)\n",
    "    print(\"Combined data saved to 'combined_fashion_terms.csv'.\")\n",
    "else:\n",
    "    print(\"No data was collected.\")"
   ]
  },
  {
   "cell_type": "code",
   "execution_count": 61,
   "id": "ccdd654c-f4a5-40ba-a170-c6507c48ef41",
   "metadata": {},
   "outputs": [],
   "source": [
    "\n",
    "\n",
    "df = pd.DataFrame(fashion_trends, columns=['TREND ITEMS'])"
   ]
  },
  {
   "cell_type": "code",
   "execution_count": 63,
   "id": "7507f8f7-4771-4ee6-bc52-863483dba983",
   "metadata": {},
   "outputs": [
    {
     "name": "stdout",
     "output_type": "stream",
     "text": [
      "                            TREND ITEMS\n",
      "0                      The Relaxed Suit\n",
      "1              The Leopard Print Clutch\n",
      "2                    The Leather Trench\n",
      "3                 The Cashmere Crewneck\n",
      "4                        The Track Pant\n",
      "5                       The Mesh Moment\n",
      "6                  The Boot-Pant Hybrid\n",
      "7                         Silk and Lace\n",
      "8                        The Draped Top\n",
      "9                    The Burgundy Skirt\n",
      "10                     The Suede Jacket\n",
      "11                    The Corduroy Vest\n",
      "12                      Colorful Layers\n",
      "13                        Circle Skirts\n",
      "14  Leopard! Leopard! And More Leopard!\n",
      "15                         Boxy Jackets\n",
      "16                 Ruffled Maxi Dresses\n",
      "17                  Over-The-Knee Boots\n",
      "18                        New Tailoring\n",
      "19                         Boho Forever\n",
      "20                          Double Bags\n",
      "21                          Scarf Coats\n",
      "22                   Oversized Trousers\n",
      "23               Statement Midi-Dresses\n",
      "24                    Full Transparency\n",
      "25                           Wrap It Up\n",
      "26                          Retro Femme\n",
      "27                 Ultra-High Necklines\n",
      "28                         Luxe Leather\n",
      "29                           Fluffed Up\n"
     ]
    }
   ],
   "source": [
    "print(df)"
   ]
  },
  {
   "cell_type": "code",
   "execution_count": 77,
   "id": "9e773465-67f8-4617-91ee-4c994c11340e",
   "metadata": {},
   "outputs": [
    {
     "name": "stdout",
     "output_type": "stream",
     "text": [
      "Top Trending Keywords:\n",
      "leopard: 2 occurrences\n",
      "leather: 2 occurrences\n",
      "relaxed: 1 occurrences\n",
      "suit: 1 occurrences\n",
      "print: 1 occurrences\n",
      "clutch: 1 occurrences\n",
      "trench: 1 occurrences\n",
      "cashmere: 1 occurrences\n",
      "crewneck: 1 occurrences\n",
      "track: 1 occurrences\n"
     ]
    }
   ],
   "source": [
    "from collections import Counter\n",
    "from nltk.corpus import stopwords\n",
    "\n",
    "# Convert to lowercase and remove special characters\n",
    "cleaned_trends = [re.sub(r'[^\\w\\s]', '', trend.lower()) for trend in fashion_trends]\n",
    "\n",
    "# Tokenize each trend into words and ensure uniqueness within each trend\n",
    "unique_words_per_trend = [list(set(trend.split())) for trend in cleaned_trends]\n",
    "\n",
    "# Flatten the list of unique words while filtering out stopwords\n",
    "stop_words = set(stopwords.words('english'))\n",
    "unique_words = [word for trend in unique_words_per_trend for word in trend if word not in stop_words]\n",
    "\n",
    "# Count the frequency of unique words across all trends\n",
    "word_counts = Counter(unique_words)\n",
    "\n",
    "# Get the most common words (trending objects)\n",
    "top_trends = word_counts.most_common(10)\n",
    "\n",
    "# Output the top trends\n",
    "print(\"Top Trending Keywords:\")\n",
    "for word, count in top_trends:\n",
    "    print(f\"{word}: {count} occurrences\")"
   ]
  },
  {
   "cell_type": "code",
   "execution_count": 69,
   "id": "bb161388-7b8f-4f51-9d03-40903c356686",
   "metadata": {},
   "outputs": [
    {
     "name": "stdout",
     "output_type": "stream",
     "text": [
      "Requirement already satisfied: nltk in c:\\users\\tushar malankar\\anaconda3\\lib\\site-packages (3.8.1)\n",
      "Requirement already satisfied: click in c:\\users\\tushar malankar\\anaconda3\\lib\\site-packages (from nltk) (8.1.7)\n",
      "Requirement already satisfied: joblib in c:\\users\\tushar malankar\\anaconda3\\lib\\site-packages (from nltk) (1.4.2)\n",
      "Requirement already satisfied: regex>=2021.8.3 in c:\\users\\tushar malankar\\anaconda3\\lib\\site-packages (from nltk) (2023.10.3)\n",
      "Requirement already satisfied: tqdm in c:\\users\\tushar malankar\\anaconda3\\lib\\site-packages (from nltk) (4.66.4)\n",
      "Requirement already satisfied: colorama in c:\\users\\tushar malankar\\anaconda3\\lib\\site-packages (from click->nltk) (0.4.6)\n"
     ]
    }
   ],
   "source": [
    "!pip install nltk"
   ]
  },
  {
   "cell_type": "code",
   "execution_count": 71,
   "id": "d88b0a8d-384f-4d63-8065-e75c264b2e44",
   "metadata": {},
   "outputs": [],
   "source": [
    "import nltk"
   ]
  },
  {
   "cell_type": "code",
   "execution_count": 73,
   "id": "29e3fbae-06a6-44a9-addf-841d06c3d1da",
   "metadata": {},
   "outputs": [
    {
     "name": "stderr",
     "output_type": "stream",
     "text": [
      "[nltk_data] Downloading package stopwords to C:\\Users\\Tushar\n",
      "[nltk_data]     Malankar\\AppData\\Roaming\\nltk_data...\n",
      "[nltk_data]   Unzipping corpora\\stopwords.zip.\n"
     ]
    },
    {
     "data": {
      "text/plain": [
       "True"
      ]
     },
     "execution_count": 73,
     "metadata": {},
     "output_type": "execute_result"
    }
   ],
   "source": [
    "nltk.download('stopwords')"
   ]
  },
  {
   "cell_type": "code",
   "execution_count": null,
   "id": "93886550-5c26-4bbb-9b8c-3186939b26ab",
   "metadata": {},
   "outputs": [],
   "source": []
  }
 ],
 "metadata": {
  "kernelspec": {
   "display_name": "Python 3 (ipykernel)",
   "language": "python",
   "name": "python3"
  },
  "language_info": {
   "codemirror_mode": {
    "name": "ipython",
    "version": 3
   },
   "file_extension": ".py",
   "mimetype": "text/x-python",
   "name": "python",
   "nbconvert_exporter": "python",
   "pygments_lexer": "ipython3",
   "version": "3.12.4"
  }
 },
 "nbformat": 4,
 "nbformat_minor": 5
}
