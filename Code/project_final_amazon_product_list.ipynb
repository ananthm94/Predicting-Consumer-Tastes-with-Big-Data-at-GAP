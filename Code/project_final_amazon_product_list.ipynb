{
 "cells": [
  {
   "cell_type": "markdown",
   "id": "10bae672-88ca-4758-8b70-d0c2f5f13534",
   "metadata": {},
   "source": [
    "# Libraries and URLs"
   ]
  },
  {
   "cell_type": "code",
   "execution_count": 13,
   "id": "d3997863-d416-43ed-8716-140b4071f24a",
   "metadata": {},
   "outputs": [],
   "source": [
    "import requests\n",
    "import random\n",
    "import time\n",
    "import numpy as np\n",
    "import pandas as pd\n",
    "from bs4 import BeautifulSoup\n",
    "import re\n",
    "product_url=\"https://www.amazon.com/s?k=sweatshirts+for+men\""
   ]
  },
  {
   "cell_type": "markdown",
   "id": "1f79f994-6dbe-42bc-a113-c3823c58f1a2",
   "metadata": {},
   "source": [
    "# Header List"
   ]
  },
  {
   "cell_type": "code",
   "execution_count": 14,
   "id": "51298b99-06ce-405d-89c1-aa146782561f",
   "metadata": {},
   "outputs": [],
   "source": [
    "headers_list=[\n",
    "    {\n",
    "        \"User-Agent\": \"Mozilla/5.0 (Windows NT 10.0; Win64; x64) AppleWebKit/537.36 (KHTML, like Gecko) Chrome/109.0.0.0 Safari/537.36\",\n",
    "        \"Accept\": \"text/html,application/xhtml+xml,application/xml;q=0.9,image/webp,*/*;q=0.8\",\n",
    "        \"Accept-Language\": \"en-US,en;q=0.9\",\n",
    "        \"Accept-Encoding\": \"gzip, deflate, br\",\n",
    "        \"Connection\": \"keep-alive\",\n",
    "        \"Upgrade-Insecure-Requests\": \"1\",\n",
    "        \"Referer\": \"https://www.bing.com/\"\n",
    "    },\n",
    "    {\n",
    "        \"User-Agent\": \"Mozilla/5.0 (X11; Linux x86_64; rv:89.0) Gecko/20100101 Firefox/89.0\",\n",
    "        \"Accept\": \"text/html,application/xhtml+xml,application/xml;q=0.9,image/webp,*/*;q=0.8\",\n",
    "        \"Accept-Language\": \"en-US,en;q=0.9\",\n",
    "        \"DNT\": \"1\",\n",
    "        \"Connection\": \"keep-alive\",\n",
    "        \"Upgrade-Insecure-Requests\": \"1\",\n",
    "        \"Accept-Encoding\": \"gzip, deflate, br\",\n",
    "        \"Referer\": \"https://duckduckgo.com/\"\n",
    "    },\n",
    "    {\n",
    "        \"User-Agent\": \"Mozilla/5.0 (iPhone; CPU iPhone OS 14_0 like Mac OS X) AppleWebKit/605.1.15 (KHTML, like Gecko) Version/14.0 Mobile/15A372 Safari/604.1\",\n",
    "        \"Accept\": \"text/html,application/xhtml+xml,application/xml;q=0.9,image/webp,*/*;q=0.8\",\n",
    "        \"Accept-Language\": \"en-US,en;q=0.9\",\n",
    "        \"DNT\": \"1\",\n",
    "        \"Connection\": \"keep-alive\",\n",
    "        \"Referer\": \"https://www.google.com/\",\n",
    "        \"Upgrade-Insecure-Requests\": \"1\"\n",
    "    },\n",
    "    {\n",
    "        \"User-Agent\": \"Mozilla/5.0 (Windows NT 10.0; Win64; x64; rv:92.0) Gecko/20100101 Firefox/92.0\",\n",
    "        \"Accept\": \"text/html,application/xhtml+xml,application/xml;q=0.9,image/webp,*/*;q=0.8\",\n",
    "        \"Accept-Language\": \"en-US,en;q=0.5\",\n",
    "        \"Accept-Encoding\": \"gzip, deflate, br\",\n",
    "        \"Connection\": \"keep-alive\",\n",
    "        \"Referer\": \"https://www.google.com/\",\n",
    "        \"Upgrade-Insecure-Requests\": \"1\",\n",
    "        \"DNT\": \"1\"\n",
    "    }\n",
    "]"
   ]
  },
  {
   "cell_type": "markdown",
   "id": "0dd47def-d1f8-4e7d-9494-2c16a44450c7",
   "metadata": {},
   "source": [
    "# Get HTML"
   ]
  },
  {
   "cell_type": "code",
   "execution_count": 15,
   "id": "96b05920-c252-43a9-bc63-2e8af49473d5",
   "metadata": {},
   "outputs": [],
   "source": [
    "def get_HTML(url):\n",
    "    time.sleep(np.random.uniform(5,15))\n",
    "    headers = random.choice(headers_list)\n",
    "    response = requests.get(url, headers=headers)\n",
    "    return response.text"
   ]
  },
  {
   "cell_type": "code",
   "execution_count": 16,
   "id": "17067bc5-d6cd-41de-afd3-87b4fc6a287f",
   "metadata": {},
   "outputs": [],
   "source": [
    "html1 = get_HTML(product_url)\n",
    "df = pd.DataFrame(columns=['brands', 'items', 'avg_ratings', 'ratings', 'past_months_sales', 'prices', 'markup_prices'])"
   ]
  },
  {
   "cell_type": "code",
   "execution_count": 17,
   "id": "d709638d-74e3-473e-af40-8abcd3556974",
   "metadata": {},
   "outputs": [],
   "source": [
    "soup = BeautifulSoup(html1, \"html.parser\")\n",
    "quote_divs = soup.find_all('div', class_=\"a-section a-spacing-small puis-padding-left-micro puis-padding-right-micro\")\n",
    "for quote_div in quote_divs:\n",
    "    divs_with_data_cy = quote_div.find_all('div', attrs={'data-cy': True})\n",
    "    brand=\"\"\n",
    "    item=\"\"\n",
    "    avg_rating=\"\"\n",
    "    rating=\"\"\n",
    "    price=\"\"\n",
    "    markup_price=\"\"\n",
    "    past_months_sale=\"\"\n",
    "    for div in divs_with_data_cy:\n",
    "        data_cy_value = div['data-cy']  # Get the value of the data-cy attribute\n",
    "        if(data_cy_value==\"title-recipe\"):\n",
    "            try:\n",
    "                brand=div.find(\"span\", class_=\"a-size-base-plus a-color-base\").text\n",
    "            except:\n",
    "                pass\n",
    "            try:\n",
    "                item=div.find(\"span\", class_=\"a-size-base-plus a-color-base a-text-normal\").text\n",
    "            except:\n",
    "                pass\n",
    "        if(data_cy_value==\"reviews-block\"):\n",
    "            try:\n",
    "                avg_rating=div.find(\"span\", class_=\"a-icon-alt\").text\n",
    "            except:\n",
    "                pass\n",
    "            try:\n",
    "                rating=div.find(\"span\", class_=\"a-size-base s-underline-text\").text\n",
    "            except:\n",
    "                pass\n",
    "            try:\n",
    "                past_months_sale=div.find(\"span\", class_=\"a-size-base a-color-secondary\").text\n",
    "            except:\n",
    "                pass\n",
    "        if(data_cy_value==\"price-recipe\"):\n",
    "            try:\n",
    "                price=div.find(\"span\", class_=\"a-price\").find(\"span\", class_=\"a-offscreen\").text\n",
    "            except:\n",
    "                pass\n",
    "            try:\n",
    "                markup_price=div.find(\"span\", class_=\"a-price a-text-price\").find(\"span\", class_=\"a-offscreen\").text\n",
    "            except:\n",
    "                pass\n",
    "    df = pd.concat([df,pd.DataFrame({'brands': [brand],  'items': [item], 'avg_ratings':[avg_rating], 'ratings':[rating], 'past_months_sales':[past_months_sale], 'prices':[price], 'markup_prices': [markup_price]})], ignore_index=True)"
   ]
  },
  {
   "cell_type": "code",
   "execution_count": 18,
   "id": "ba564d08-9ccc-4324-9dfa-f6ac2eb3a555",
   "metadata": {},
   "outputs": [],
   "source": [
    "df.to_csv('amazon_men_sweatshirt.csv', index = False, encoding = 'UTF-8')"
   ]
  }
 ],
 "metadata": {
  "kernelspec": {
   "display_name": "Python 3 (ipykernel)",
   "language": "python",
   "name": "python3"
  },
  "language_info": {
   "codemirror_mode": {
    "name": "ipython",
    "version": 3
   },
   "file_extension": ".py",
   "mimetype": "text/x-python",
   "name": "python",
   "nbconvert_exporter": "python",
   "pygments_lexer": "ipython3",
   "version": "3.12.4"
  }
 },
 "nbformat": 4,
 "nbformat_minor": 5
}
